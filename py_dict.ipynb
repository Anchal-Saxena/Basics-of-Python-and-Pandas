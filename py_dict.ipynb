{
 "cells": [
  {
   "cell_type": "code",
   "execution_count": 1,
   "id": "e8b75592",
   "metadata": {},
   "outputs": [],
   "source": [
    "#dictionary\n",
    "#dict={\"keys\",\"values\"}"
   ]
  },
  {
   "cell_type": "code",
   "execution_count": 2,
   "id": "2111a836",
   "metadata": {},
   "outputs": [],
   "source": [
    "dict1={} #empty dictionary"
   ]
  },
  {
   "cell_type": "code",
   "execution_count": 3,
   "id": "b707d596",
   "metadata": {},
   "outputs": [
    {
     "data": {
      "text/plain": [
       "dict"
      ]
     },
     "execution_count": 3,
     "metadata": {},
     "output_type": "execute_result"
    }
   ],
   "source": [
    "type(dict1)"
   ]
  },
  {
   "cell_type": "code",
   "execution_count": 4,
   "id": "d5c30dad",
   "metadata": {},
   "outputs": [],
   "source": [
    "dict2={\"name\":\"MAS\",\"class\":8}"
   ]
  },
  {
   "cell_type": "code",
   "execution_count": 5,
   "id": "64df850c",
   "metadata": {},
   "outputs": [
    {
     "data": {
      "text/plain": [
       "{'name': 'MAS', 'class': 8}"
      ]
     },
     "execution_count": 5,
     "metadata": {},
     "output_type": "execute_result"
    }
   ],
   "source": [
    "dict2"
   ]
  },
  {
   "cell_type": "code",
   "execution_count": 6,
   "id": "93f82690",
   "metadata": {},
   "outputs": [
    {
     "data": {
      "text/plain": [
       "'MAS'"
      ]
     },
     "execution_count": 6,
     "metadata": {},
     "output_type": "execute_result"
    }
   ],
   "source": [
    "dict2[\"name\"] #indexing will be done on the basis of keys"
   ]
  },
  {
   "cell_type": "code",
   "execution_count": 7,
   "id": "cc1452fe",
   "metadata": {},
   "outputs": [],
   "source": [
    "dict2[\"board\"]=\"CBSE\" #updating"
   ]
  },
  {
   "cell_type": "code",
   "execution_count": 8,
   "id": "75d6541e",
   "metadata": {},
   "outputs": [
    {
     "data": {
      "text/plain": [
       "{'name': 'MAS', 'class': 8, 'board': 'CBSE'}"
      ]
     },
     "execution_count": 8,
     "metadata": {},
     "output_type": "execute_result"
    }
   ],
   "source": [
    "dict2"
   ]
  },
  {
   "cell_type": "code",
   "execution_count": 9,
   "id": "49367600",
   "metadata": {},
   "outputs": [
    {
     "data": {
      "text/plain": [
       "'CBSE'"
      ]
     },
     "execution_count": 9,
     "metadata": {},
     "output_type": "execute_result"
    }
   ],
   "source": [
    "dict2[\"board\"]"
   ]
  },
  {
   "cell_type": "code",
   "execution_count": 10,
   "id": "951b1973",
   "metadata": {},
   "outputs": [],
   "source": [
    "del(dict2['board'])"
   ]
  },
  {
   "cell_type": "code",
   "execution_count": 11,
   "id": "0d453561",
   "metadata": {},
   "outputs": [
    {
     "data": {
      "text/plain": [
       "{'name': 'MAS', 'class': 8}"
      ]
     },
     "execution_count": 11,
     "metadata": {},
     "output_type": "execute_result"
    }
   ],
   "source": [
    "dict2"
   ]
  },
  {
   "cell_type": "code",
   "execution_count": null,
   "id": "2c9fd259",
   "metadata": {},
   "outputs": [],
   "source": []
  }
 ],
 "metadata": {
  "gist": {
   "data": {
    "description": "py_dict.ipynb",
    "public": true
   },
   "id": ""
  },
  "kernelspec": {
   "display_name": "Python 3 (ipykernel)",
   "language": "python",
   "name": "python3"
  },
  "language_info": {
   "codemirror_mode": {
    "name": "ipython",
    "version": 3
   },
   "file_extension": ".py",
   "mimetype": "text/x-python",
   "name": "python",
   "nbconvert_exporter": "python",
   "pygments_lexer": "ipython3",
   "version": "3.9.7"
  }
 },
 "nbformat": 4,
 "nbformat_minor": 5
}
