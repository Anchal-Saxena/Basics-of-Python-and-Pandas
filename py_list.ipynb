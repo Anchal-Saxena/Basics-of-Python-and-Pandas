{
 "cells": [
  {
   "cell_type": "code",
   "execution_count": 1,
   "id": "e97268dc",
   "metadata": {},
   "outputs": [],
   "source": [
    "list_1=[2,3.3,True,\"excelr\"]"
   ]
  },
  {
   "cell_type": "code",
   "execution_count": 2,
   "id": "fd2a68ae",
   "metadata": {},
   "outputs": [],
   "source": [
    "list_2=[1,2,3,4,5,6]"
   ]
  },
  {
   "cell_type": "code",
   "execution_count": 3,
   "id": "d779b51a",
   "metadata": {},
   "outputs": [],
   "source": [
    "tuple_1=(4,5.7,\"text\")"
   ]
  },
  {
   "cell_type": "code",
   "execution_count": 4,
   "id": "a73f6b74",
   "metadata": {},
   "outputs": [
    {
     "data": {
      "text/plain": [
       "2097532280384"
      ]
     },
     "execution_count": 4,
     "metadata": {},
     "output_type": "execute_result"
    }
   ],
   "source": [
    "id(list_1)"
   ]
  },
  {
   "cell_type": "code",
   "execution_count": 5,
   "id": "bdfb1f38",
   "metadata": {},
   "outputs": [],
   "source": [
    "list_1.append(56)"
   ]
  },
  {
   "cell_type": "code",
   "execution_count": 6,
   "id": "01c54b53",
   "metadata": {},
   "outputs": [
    {
     "data": {
      "text/plain": [
       "[2, 3.3, True, 'excelr', 56]"
      ]
     },
     "execution_count": 6,
     "metadata": {},
     "output_type": "execute_result"
    }
   ],
   "source": [
    "list_1"
   ]
  },
  {
   "cell_type": "code",
   "execution_count": 7,
   "id": "8e240f7b",
   "metadata": {},
   "outputs": [
    {
     "data": {
      "text/plain": [
       "2097532280384"
      ]
     },
     "execution_count": 7,
     "metadata": {},
     "output_type": "execute_result"
    }
   ],
   "source": [
    "id(list_1)"
   ]
  },
  {
   "cell_type": "code",
   "execution_count": 8,
   "id": "31993470",
   "metadata": {},
   "outputs": [
    {
     "data": {
      "text/plain": [
       "[True, 'excelr']"
      ]
     },
     "execution_count": 8,
     "metadata": {},
     "output_type": "execute_result"
    }
   ],
   "source": [
    "list_1[2:4]"
   ]
  },
  {
   "cell_type": "code",
   "execution_count": 9,
   "id": "3fcadab8",
   "metadata": {},
   "outputs": [
    {
     "data": {
      "text/plain": [
       "[True, 'excelr']"
      ]
     },
     "execution_count": 9,
     "metadata": {},
     "output_type": "execute_result"
    }
   ],
   "source": [
    "list_1[-3:-1]"
   ]
  },
  {
   "cell_type": "code",
   "execution_count": 11,
   "id": "17ce66b9",
   "metadata": {},
   "outputs": [
    {
     "data": {
      "text/plain": [
       "[3.3, True, 'excelr', 56]"
      ]
     },
     "execution_count": 11,
     "metadata": {},
     "output_type": "execute_result"
    }
   ],
   "source": [
    "list_1[-4:]"
   ]
  },
  {
   "cell_type": "code",
   "execution_count": 12,
   "id": "2a027bd8",
   "metadata": {},
   "outputs": [
    {
     "data": {
      "text/plain": [
       "[2, 3.3, True, 'excelr', 56]"
      ]
     },
     "execution_count": 12,
     "metadata": {},
     "output_type": "execute_result"
    }
   ],
   "source": [
    "list_1[:]"
   ]
  },
  {
   "cell_type": "code",
   "execution_count": 13,
   "id": "954d8a4e",
   "metadata": {},
   "outputs": [
    {
     "data": {
      "text/plain": [
       "list"
      ]
     },
     "execution_count": 13,
     "metadata": {},
     "output_type": "execute_result"
    }
   ],
   "source": [
    "type(list_2)"
   ]
  },
  {
   "cell_type": "code",
   "execution_count": 14,
   "id": "1bcd344b",
   "metadata": {},
   "outputs": [
    {
     "data": {
      "text/plain": [
       "6"
      ]
     },
     "execution_count": 14,
     "metadata": {},
     "output_type": "execute_result"
    }
   ],
   "source": [
    "len(list_2\n",
    ")"
   ]
  },
  {
   "cell_type": "code",
   "execution_count": 15,
   "id": "e2abb99c",
   "metadata": {},
   "outputs": [
    {
     "data": {
      "text/plain": [
       "5"
      ]
     },
     "execution_count": 15,
     "metadata": {},
     "output_type": "execute_result"
    }
   ],
   "source": [
    "len(list_1)"
   ]
  },
  {
   "cell_type": "code",
   "execution_count": 16,
   "id": "3e7429ca",
   "metadata": {},
   "outputs": [],
   "source": [
    "list_1.append(\"sol\")"
   ]
  },
  {
   "cell_type": "code",
   "execution_count": 17,
   "id": "1cf43346",
   "metadata": {},
   "outputs": [
    {
     "data": {
      "text/plain": [
       "[2, 3.3, True, 'excelr', 56, 'sol']"
      ]
     },
     "execution_count": 17,
     "metadata": {},
     "output_type": "execute_result"
    }
   ],
   "source": [
    "list_1"
   ]
  },
  {
   "cell_type": "code",
   "execution_count": 18,
   "id": "ec9e3746",
   "metadata": {},
   "outputs": [],
   "source": [
    "list_1.append([1,2,3])"
   ]
  },
  {
   "cell_type": "code",
   "execution_count": 19,
   "id": "97427b06",
   "metadata": {},
   "outputs": [
    {
     "data": {
      "text/plain": [
       "[2, 3.3, True, 'excelr', 56, 'sol', [1, 2, 3]]"
      ]
     },
     "execution_count": 19,
     "metadata": {},
     "output_type": "execute_result"
    }
   ],
   "source": [
    "list_1"
   ]
  },
  {
   "cell_type": "code",
   "execution_count": 20,
   "id": "0169d13f",
   "metadata": {},
   "outputs": [],
   "source": [
    "list_1.insert(6,False)"
   ]
  },
  {
   "cell_type": "code",
   "execution_count": 21,
   "id": "c4d7899a",
   "metadata": {},
   "outputs": [
    {
     "data": {
      "text/plain": [
       "[2, 3.3, True, 'excelr', 56, 'sol', False, [1, 2, 3]]"
      ]
     },
     "execution_count": 21,
     "metadata": {},
     "output_type": "execute_result"
    }
   ],
   "source": [
    "list_1"
   ]
  },
  {
   "cell_type": "code",
   "execution_count": 22,
   "id": "0affad04",
   "metadata": {},
   "outputs": [],
   "source": [
    "list_1.extend(list_2)"
   ]
  },
  {
   "cell_type": "code",
   "execution_count": 23,
   "id": "92889349",
   "metadata": {},
   "outputs": [
    {
     "data": {
      "text/plain": [
       "[2, 3.3, True, 'excelr', 56, 'sol', False, [1, 2, 3], 1, 2, 3, 4, 5, 6]"
      ]
     },
     "execution_count": 23,
     "metadata": {},
     "output_type": "execute_result"
    }
   ],
   "source": [
    "list_1"
   ]
  },
  {
   "cell_type": "code",
   "execution_count": 24,
   "id": "e9a5f0b5",
   "metadata": {},
   "outputs": [],
   "source": [
    "list_1.append(list_2) #nested list"
   ]
  },
  {
   "cell_type": "code",
   "execution_count": 25,
   "id": "f645e3d2",
   "metadata": {},
   "outputs": [
    {
     "data": {
      "text/plain": [
       "[2,\n",
       " 3.3,\n",
       " True,\n",
       " 'excelr',\n",
       " 56,\n",
       " 'sol',\n",
       " False,\n",
       " [1, 2, 3],\n",
       " 1,\n",
       " 2,\n",
       " 3,\n",
       " 4,\n",
       " 5,\n",
       " 6,\n",
       " [1, 2, 3, 4, 5, 6]]"
      ]
     },
     "execution_count": 25,
     "metadata": {},
     "output_type": "execute_result"
    }
   ],
   "source": [
    "list_1"
   ]
  },
  {
   "cell_type": "code",
   "execution_count": 27,
   "id": "2bafccf7",
   "metadata": {},
   "outputs": [
    {
     "data": {
      "text/plain": [
       "4"
      ]
     },
     "execution_count": 27,
     "metadata": {},
     "output_type": "execute_result"
    }
   ],
   "source": [
    "list_1[-1][3] #accessing nested list elements"
   ]
  },
  {
   "cell_type": "code",
   "execution_count": 28,
   "id": "c4c1028d",
   "metadata": {},
   "outputs": [
    {
     "data": {
      "text/plain": [
       "56"
      ]
     },
     "execution_count": 28,
     "metadata": {},
     "output_type": "execute_result"
    }
   ],
   "source": [
    "list_1[:][4]"
   ]
  },
  {
   "cell_type": "code",
   "execution_count": 29,
   "id": "1e7ac5d3",
   "metadata": {},
   "outputs": [
    {
     "data": {
      "text/plain": [
       "[3, 4, 5]"
      ]
     },
     "execution_count": 29,
     "metadata": {},
     "output_type": "execute_result"
    }
   ],
   "source": [
    "list_1[:][-5:-2]"
   ]
  },
  {
   "cell_type": "code",
   "execution_count": 30,
   "id": "20e46458",
   "metadata": {},
   "outputs": [],
   "source": [
    "list_1.reverse()"
   ]
  },
  {
   "cell_type": "code",
   "execution_count": 31,
   "id": "fa38d84e",
   "metadata": {},
   "outputs": [
    {
     "data": {
      "text/plain": [
       "[[1, 2, 3, 4, 5, 6],\n",
       " 6,\n",
       " 5,\n",
       " 4,\n",
       " 3,\n",
       " 2,\n",
       " 1,\n",
       " [1, 2, 3],\n",
       " False,\n",
       " 'sol',\n",
       " 56,\n",
       " 'excelr',\n",
       " True,\n",
       " 3.3,\n",
       " 2]"
      ]
     },
     "execution_count": 31,
     "metadata": {},
     "output_type": "execute_result"
    }
   ],
   "source": [
    "list_1"
   ]
  },
  {
   "cell_type": "code",
   "execution_count": 40,
   "id": "24e56beb",
   "metadata": {},
   "outputs": [
    {
     "data": {
      "text/plain": [
       "[6, 5, 4, 3, 2, 1, False, 'sol', 56, 'excelr', True, 3.3, 2]"
      ]
     },
     "execution_count": 40,
     "metadata": {},
     "output_type": "execute_result"
    }
   ],
   "source": [
    "list_1"
   ]
  },
  {
   "cell_type": "code",
   "execution_count": null,
   "id": "11e5fdc9",
   "metadata": {},
   "outputs": [],
   "source": []
  }
 ],
 "metadata": {
  "kernelspec": {
   "display_name": "Python 3",
   "language": "python",
   "name": "python3"
  },
  "language_info": {
   "codemirror_mode": {
    "name": "ipython",
    "version": 3
   },
   "file_extension": ".py",
   "mimetype": "text/x-python",
   "name": "python",
   "nbconvert_exporter": "python",
   "pygments_lexer": "ipython3",
   "version": "3.8.8"
  }
 },
 "nbformat": 4,
 "nbformat_minor": 5
}
