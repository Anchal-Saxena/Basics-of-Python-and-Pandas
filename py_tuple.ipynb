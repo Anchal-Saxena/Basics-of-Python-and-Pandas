{
 "cells": [
  {
   "cell_type": "code",
   "execution_count": 1,
   "id": "44fe7134",
   "metadata": {},
   "outputs": [],
   "source": [
    "#immutable tuple\n",
    "tup1=(1,2,3,\"text\")"
   ]
  },
  {
   "cell_type": "code",
   "execution_count": 2,
   "id": "ec58a0bd",
   "metadata": {},
   "outputs": [
    {
     "data": {
      "text/plain": [
       "2724357540816"
      ]
     },
     "execution_count": 2,
     "metadata": {},
     "output_type": "execute_result"
    }
   ],
   "source": [
    "id(tup1)"
   ]
  },
  {
   "cell_type": "code",
   "execution_count": 3,
   "id": "e6fd3114",
   "metadata": {},
   "outputs": [],
   "source": [
    "tup1=(1,2,3,4,\"text\")"
   ]
  },
  {
   "cell_type": "code",
   "execution_count": 4,
   "id": "b4a4b469",
   "metadata": {},
   "outputs": [
    {
     "data": {
      "text/plain": [
       "2724357476816"
      ]
     },
     "execution_count": 4,
     "metadata": {},
     "output_type": "execute_result"
    }
   ],
   "source": [
    "id(tup1)"
   ]
  },
  {
   "cell_type": "code",
   "execution_count": 5,
   "id": "bc8b3969",
   "metadata": {},
   "outputs": [],
   "source": [
    "tup2=(\"anchal\",\"saxena\")"
   ]
  },
  {
   "cell_type": "code",
   "execution_count": 6,
   "id": "3aac8ea7",
   "metadata": {},
   "outputs": [],
   "source": [
    "tup1=tup1+tup2"
   ]
  },
  {
   "cell_type": "code",
   "execution_count": 7,
   "id": "7a774d5d",
   "metadata": {},
   "outputs": [
    {
     "data": {
      "text/plain": [
       "(1, 2, 3, 4, 'text', 'anchal', 'saxena')"
      ]
     },
     "execution_count": 7,
     "metadata": {},
     "output_type": "execute_result"
    }
   ],
   "source": [
    "tup1"
   ]
  },
  {
   "cell_type": "code",
   "execution_count": 8,
   "id": "c9e1f0a8",
   "metadata": {},
   "outputs": [
    {
     "data": {
      "text/plain": [
       "tuple"
      ]
     },
     "execution_count": 8,
     "metadata": {},
     "output_type": "execute_result"
    }
   ],
   "source": [
    "type(tup1)"
   ]
  },
  {
   "cell_type": "code",
   "execution_count": 9,
   "id": "47545a4f",
   "metadata": {},
   "outputs": [
    {
     "data": {
      "text/plain": [
       "7"
      ]
     },
     "execution_count": 9,
     "metadata": {},
     "output_type": "execute_result"
    }
   ],
   "source": [
    "len(tup1)"
   ]
  },
  {
   "cell_type": "code",
   "execution_count": 11,
   "id": "8bfd4159",
   "metadata": {},
   "outputs": [
    {
     "data": {
      "text/plain": [
       "(4, 'text', 'anchal')"
      ]
     },
     "execution_count": 11,
     "metadata": {},
     "output_type": "execute_result"
    }
   ],
   "source": [
    "tup1[-4:-1]"
   ]
  },
  {
   "cell_type": "code",
   "execution_count": 13,
   "id": "a6121be8",
   "metadata": {},
   "outputs": [],
   "source": [
    "del(tup1)"
   ]
  },
  {
   "cell_type": "code",
   "execution_count": 14,
   "id": "2c338be0",
   "metadata": {},
   "outputs": [
    {
     "ename": "NameError",
     "evalue": "name 'tup1' is not defined",
     "output_type": "error",
     "traceback": [
      "\u001b[1;31m---------------------------------------------------------------------------\u001b[0m",
      "\u001b[1;31mNameError\u001b[0m                                 Traceback (most recent call last)",
      "\u001b[1;32m<ipython-input-14-afd04ff38ac4>\u001b[0m in \u001b[0;36m<module>\u001b[1;34m\u001b[0m\n\u001b[1;32m----> 1\u001b[1;33m \u001b[0mtup1\u001b[0m\u001b[1;33m\u001b[0m\u001b[1;33m\u001b[0m\u001b[0m\n\u001b[0m",
      "\u001b[1;31mNameError\u001b[0m: name 'tup1' is not defined"
     ]
    }
   ],
   "source": [
    "tup1"
   ]
  },
  {
   "cell_type": "code",
   "execution_count": 15,
   "id": "d890afc3",
   "metadata": {},
   "outputs": [
    {
     "data": {
      "text/plain": [
       "('anchal', 'saxena')"
      ]
     },
     "execution_count": 15,
     "metadata": {},
     "output_type": "execute_result"
    }
   ],
   "source": [
    "tup2"
   ]
  },
  {
   "cell_type": "code",
   "execution_count": 16,
   "id": "3970707f",
   "metadata": {},
   "outputs": [
    {
     "data": {
      "text/plain": [
       "('anchal',\n",
       " 'saxena',\n",
       " 'anchal',\n",
       " 'saxena',\n",
       " 'anchal',\n",
       " 'saxena',\n",
       " 'anchal',\n",
       " 'saxena',\n",
       " 'anchal',\n",
       " 'saxena')"
      ]
     },
     "execution_count": 16,
     "metadata": {},
     "output_type": "execute_result"
    }
   ],
   "source": [
    "tup2*5"
   ]
  },
  {
   "cell_type": "code",
   "execution_count": null,
   "id": "f565862c",
   "metadata": {},
   "outputs": [],
   "source": []
  }
 ],
 "metadata": {
  "kernelspec": {
   "display_name": "Python 3",
   "language": "python",
   "name": "python3"
  },
  "language_info": {
   "codemirror_mode": {
    "name": "ipython",
    "version": 3
   },
   "file_extension": ".py",
   "mimetype": "text/x-python",
   "name": "python",
   "nbconvert_exporter": "python",
   "pygments_lexer": "ipython3",
   "version": "3.8.8"
  }
 },
 "nbformat": 4,
 "nbformat_minor": 5
}
